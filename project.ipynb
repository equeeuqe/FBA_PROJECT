{
 "cells": [
  {
   "attachments": {},
   "cell_type": "markdown",
   "metadata": {},
   "source": [
    "ACCESSING ALL 4 FILES\n"
   ]
  },
  {
   "cell_type": "code",
   "execution_count": 30,
   "metadata": {},
   "outputs": [],
   "source": [
    "import pandas as pd\n",
    "import numpy as np\n",
    "import matplotlib\n",
    "import matplotlib.pyplot as plt"
   ]
  },
  {
   "attachments": {},
   "cell_type": "markdown",
   "metadata": {},
   "source": [
    "ACCESSING FOURTH DATASET FILE"
   ]
  },
  {
   "cell_type": "code",
   "execution_count": 136,
   "metadata": {},
   "outputs": [
    {
     "data": {
      "text/plain": [
       "array(['Consumer Prices, Food Indices (2015 = 100)',\n",
       "       'Consumer Prices, General Indices (2015 = 100)',\n",
       "       'Food price inflation'], dtype=object)"
      ]
     },
     "execution_count": 136,
     "metadata": {},
     "output_type": "execute_result"
    }
   ],
   "source": [
    "ddf = pd.read_csv(r'data/consumer-price-indices_phl.csv')\n",
    "ddf.shape #(799, 16)\n",
    "\n",
    "#dropping the unneeded columns\n",
    "ddf.drop('Iso3', inplace=True, axis=1)\n",
    "ddf.drop('Area Code', inplace=True, axis=1)\n",
    "ddf.drop('Area Code (M49)', inplace=True, axis=1)\n",
    "ddf.drop('Year Code', inplace=True, axis=1)\n",
    "\n",
    "#dropping unneeded rows\n",
    "ddf.drop(index=0, axis=0, inplace=True)\n",
    "\n",
    "#assigning 0 to null/NaN values\n",
    "ddf.fillna(0)\n",
    "\n",
    "#changing string Year to int and dropping some rows\n",
    "ddf['Year'] = pd.to_numeric(ddf['Year'])\n",
    "ddf['Value'] = pd.to_numeric(ddf['Value'])\n",
    "ddf.drop(ddf[(ddf['Year'] < 2010)].index, inplace=True)\n",
    "ddf.drop(ddf[(ddf['Year'] > 2020)].index, inplace=True)\n",
    "\n",
    "food = ddf.loc[ddf['Item']==\"Consumer Prices, Food Indices (2015 = 100)\"]\n",
    "general = ddf.loc[ddf['Item']==\"Consumer Prices, General Indices (2015 = 100)\"]\n",
    "ddf['Item'].unique()"
   ]
  },
  {
   "attachments": {},
   "cell_type": "markdown",
   "metadata": {},
   "source": [
    "GETTING AVERAGE VALUES of FOOD INDECES"
   ]
  },
  {
   "cell_type": "code",
   "execution_count": 138,
   "metadata": {},
   "outputs": [
    {
     "name": "stdout",
     "output_type": "stream",
     "text": [
      "[83.56, 88.13, 90.49, 92.79, 98.15, 100.0, 101.58, 104.68, 111.86, 114.16, 117.29]\n"
     ]
    }
   ],
   "source": [
    "food_2010 = food.loc[food['Year'] == 2010]\n",
    "averageVal1 = round(food_2010['Value'].mean(), 2)\n",
    "\n",
    "food_2011 = food.loc[food['Year'] == 2011]\n",
    "averageVal2 = round(food_2011['Value'].mean(), 2)\n",
    "#formula repeats until year 2020\n",
    "\n",
    "food_2012 = food.loc[food['Year'] == 2012]\n",
    "averageVal3 = round(food_2012['Value'].mean(), 2)\n",
    "\n",
    "food_2013 = food.loc[food['Year'] == 2013]\n",
    "averageVal4 = round(food_2013['Value'].mean(), 2)\n",
    "\n",
    "food_2014 = food.loc[food['Year'] == 2014]\n",
    "averageVal5 = round(food_2014['Value'].mean(), 2)\n",
    "\n",
    "food_2015 = food.loc[food['Year'] == 2015]\n",
    "averageVal6 = round(food_2015['Value'].mean(), 2)\n",
    "\n",
    "food_2016 = food.loc[food['Year'] == 2016]\n",
    "averageVal7 = round(food_2016['Value'].mean(), 2)\n",
    "\n",
    "food_2017 = food.loc[food['Year'] == 2017]\n",
    "averageVal8 = round(food_2017['Value'].mean(), 2)\n",
    "\n",
    "food_2018 = food.loc[food['Year'] == 2018]\n",
    "averageVal9 = round(food_2018['Value'].mean(), 2)\n",
    "\n",
    "food_2019 = food.loc[food['Year'] == 2019]\n",
    "averageVal10 = round(food_2019['Value'].mean(), 2)\n",
    "\n",
    "food_2020 = food.loc[food['Year'] == 2020]\n",
    "averageVal11 = round(food_2020['Value'].mean(), 2)\n",
    "\n",
    "ave_list = [averageVal1, averageVal2, averageVal3, \n",
    "    averageVal4, averageVal5, averageVal6, averageVal7, \n",
    "    averageVal8, averageVal9, averageVal10, averageVal11]\n",
    "year_list = [2010, 2011, 2012, 2013, 2014, 2015, 2016, 2017, 2018, 2019, 2020]\n",
    "print(ave_list)\n"
   ]
  },
  {
   "attachments": {},
   "cell_type": "markdown",
   "metadata": {},
   "source": [
    "GETTING EVERAGE VALUES FOR GENERAL INDECES"
   ]
  },
  {
   "cell_type": "code",
   "execution_count": 139,
   "metadata": {},
   "outputs": [
    {
     "name": "stdout",
     "output_type": "stream",
     "text": [
      "[86.63, 90.72, 93.47, 95.88, 99.33, 100.0, 101.25, 104.14, 99.33, 112.3, 114.98]\n"
     ]
    }
   ],
   "source": [
    "general_2010 = general.loc[general['Year'] == 2010]\n",
    "Val1 = round(general_2010['Value'].mean(), 2)\n",
    "\n",
    "general_2011 = general.loc[general['Year'] == 2011]\n",
    "Val2 = round(general_2011['Value'].mean(), 2)\n",
    "#formula repeats until year 2020\n",
    "\n",
    "general_2011 = general.loc[general['Year'] == 2012]\n",
    "Val3 = round(general_2011['Value'].mean(), 2)\n",
    "\n",
    "general_2013 = general.loc[general['Year'] == 2013]\n",
    "Val4 = round(general_2013['Value'].mean(), 2)\n",
    "\n",
    "general_2014 = general.loc[general['Year'] == 2014]\n",
    "Val5 = round(general_2014['Value'].mean(), 2)\n",
    "\n",
    "general_2015 = general.loc[general['Year'] == 2015]\n",
    "Val6 = round(general_2015['Value'].mean(), 2)\n",
    "\n",
    "general_2016 = general.loc[general['Year'] == 2016]\n",
    "Val7 = round(general_2016['Value'].mean(), 2)\n",
    "\n",
    "general_2017 = general.loc[general['Year'] == 2017]\n",
    "Val8 = round(general_2017['Value'].mean(), 2)\n",
    "\n",
    "general_2018 = general.loc[general['Year'] == 2018]\n",
    "Val9 = round(general_2014['Value'].mean(), 2)\n",
    "\n",
    "general_2019 = general.loc[general['Year'] == 2019]\n",
    "Val10 = round(general_2019['Value'].mean(), 2)\n",
    "\n",
    "general_2020 = general.loc[general['Year'] == 2020]\n",
    "Val11 = round(general_2020['Value'].mean(), 2)\n",
    "\n",
    "gen_ave_list = [Val1, Val2, Val3, Val4, Val5, Val6, Val7, Val8, \n",
    "                Val9, Val10, Val11]\n",
    "print(gen_ave_list)"
   ]
  },
  {
   "attachments": {},
   "cell_type": "markdown",
   "metadata": {},
   "source": [
    "PLOTTING"
   ]
  },
  {
   "cell_type": "code",
   "execution_count": 141,
   "metadata": {},
   "outputs": [
    {
     "data": {
      "text/plain": [
       "[<matplotlib.lines.Line2D at 0x1d1cbefe6b0>]"
      ]
     },
     "execution_count": 141,
     "metadata": {},
     "output_type": "execute_result"
    },
    {
     "data": {
      "text/plain": [
       "<Figure size 800x800 with 0 Axes>"
      ]
     },
     "metadata": {},
     "output_type": "display_data"
    },
    {
     "data": {
      "image/png": "[encoded data removed]",
      "text/plain": [
       "<Figure size 640x480 with 1 Axes>"
      ]
     },
     "metadata": {},
     "output_type": "display_data"
    }
   ],
   "source": [
    "plt_7 = plt.figure(figsize=(8, 8))\n",
    "\n",
    "fig, ax = plt.subplots()\n",
    "plt.title(\"Consumer Prices, Food Indices\")\n",
    "plt.xlabel(\"Year\")\n",
    "plt.ylabel(\"Value\")\n",
    "ax.grid()\n",
    "\n",
    "#rotating the x-axis labels\n",
    "for tick in ax.get_xticklabels():\n",
    "    tick.set_rotation(45)\n",
    "\n",
    "#plot to compare local and international prices\n",
    "ax.plot(year_list, ave_list, label=\"buffalo\")\n",
    "\n",
    "#show legend to show labels, and position outside the plot\n",
    "#ax.legend(bbox_to_anchor=(1.05, 1.0), loc='upper left')"
   ]
  },
  {
   "cell_type": "code",
   "execution_count": 142,
   "metadata": {},
   "outputs": [
    {
     "data": {
      "text/plain": [
       "[<matplotlib.lines.Line2D at 0x1d1ccafcbb0>]"
      ]
     },
     "execution_count": 142,
     "metadata": {},
     "output_type": "execute_result"
    },
    {
     "data": {
      "text/plain": [
       "<Figure size 800x600 with 0 Axes>"
      ]
     },
     "metadata": {},
     "output_type": "display_data"
    },
    {
     "data": {
      "image/png": "[encoded data removed]",
      "text/plain": [
       "<Figure size 640x480 with 1 Axes>"
      ]
     },
     "metadata": {},
     "output_type": "display_data"
    }
   ],
   "source": [
    "plt_7 = plt.figure(figsize=(8, 6))\n",
    "\n",
    "fig, ax = plt.subplots()\n",
    "plt.title(\"Consumer Prices, General Indices\")\n",
    "plt.xlabel(\"Month\")\n",
    "plt.ylabel(\"Value\")\n",
    "ax.grid()\n",
    "\n",
    "#rotating the x-axis labels\n",
    "for tick in ax.get_xticklabels():\n",
    "    tick.set_rotation(45)\n",
    "\n",
    "#plot to compare local and international prices\n",
    "ax.plot(year_list, gen_ave_list, label=\"buffalo\")\n",
    "\n",
    "#show legend to show labels, and position outside the plot\n",
    "#ax.legend(bbox_to_anchor=(1.05, 1.0), loc='upper left')"
   ]
  },
  {
   "attachments": {},
   "cell_type": "markdown",
   "metadata": {},
   "source": [
    "    CALCULATING THE DEGREE OF CHANGE OVER TIME - FOOD INDECES"
   ]
  },
  {
   "cell_type": "code",
   "execution_count": 179,
   "metadata": {},
   "outputs": [
    {
     "name": "stdout",
     "output_type": "stream",
     "text": [
      "5.47\n",
      "2.68\n",
      "2.54\n",
      "5.78\n",
      "1.88\n",
      "1.58\n",
      "3.05\n",
      "6.86\n",
      "2.06\n",
      "2.74\n"
     ]
    }
   ],
   "source": [
    "origVal = ave_list[0]\n",
    "\n",
    "for i in range(1, len(ave_list)):\n",
    "    newVal = ave_list[i]\n",
    "    \n",
    "    if(newVal > origVal):\n",
    "        left = newVal\n",
    "        right = origVal\n",
    "        denominator = right\n",
    "    else:\n",
    "        left = origVal\n",
    "        right = newVal\n",
    "        denominator = left\n",
    "    \n",
    "    difference = round(left-right, 2)\n",
    "    deci_change = round(difference/denominator, 4)\n",
    "    per_change = round(deci_change*100, 2)\n",
    "    print(per_change)\n",
    "    origVal = newVal"
   ]
  },
  {
   "attachments": {},
   "cell_type": "markdown",
   "metadata": {},
   "source": [
    "    CALCULATING THE DEGREE OF CHANGE OVER TIME - GENERAL INDECES"
   ]
  },
  {
   "cell_type": "code",
   "execution_count": 180,
   "metadata": {},
   "outputs": [
    {
     "name": "stdout",
     "output_type": "stream",
     "text": [
      "1.73\n",
      "2.68\n",
      "2.54\n",
      "5.78\n",
      "1.88\n",
      "1.58\n",
      "3.05\n",
      "6.86\n",
      "2.06\n",
      "2.74\n"
     ]
    }
   ],
   "source": [
    "origVal = gen_ave_list[0]\n",
    "\n",
    "for i in range(1, len(gen_ave_list)):\n",
    "    newVal = ave_list[i]\n",
    "    \n",
    "    if(newVal > origVal):\n",
    "        left = newVal\n",
    "        right = origVal\n",
    "        denominator = right\n",
    "    else:\n",
    "        left = origVal\n",
    "        right = newVal\n",
    "        denominator = left\n",
    "    \n",
    "    difference = round(left-right, 2)\n",
    "    deci_change = round(difference/denominator, 4)\n",
    "    per_change = round(deci_change*100, 2)\n",
    "    print(per_change)\n",
    "    origVal = newVal"
   ]
  },
  {
   "attachments": {},
   "cell_type": "markdown",
   "metadata": {},
   "source": [
    "MAKE DATAFRAME TO PUT THE PERCENTAGE CHANGE"
   ]
  },
  {
   "cell_type": "code",
   "execution_count": null,
   "metadata": {},
   "outputs": [],
   "source": []
  }
 ],
 "metadata": {
  "kernelspec": {
   "display_name": "Python 3",
   "language": "python",
   "name": "python3"
  },
  "language_info": {
   "codemirror_mode": {
    "name": "ipython",
    "version": 3
   },
   "file_extension": ".py",
   "mimetype": "text/x-python",
   "name": "python",
   "nbconvert_exporter": "python",
   "pygments_lexer": "ipython3",
   "version": "3.10.7"
  },
  "orig_nbformat": 4,
  "vscode": {
   "interpreter": {
    "hash": "cc559bd6836a1d2a47b87c451471c07b23eb508a36aef4931b8b4493e1a44fa1"
   }
  }
 },
 "nbformat": 4,
 "nbformat_minor": 2
}
